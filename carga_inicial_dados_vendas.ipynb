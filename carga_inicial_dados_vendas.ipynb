{
 "cells": [
  {
   "cell_type": "code",
   "execution_count": 3,
   "id": "69428032",
   "metadata": {},
   "outputs": [],
   "source": [
    "import psycopg2\n",
    "from faker import Faker\n",
    "import random\n",
    "from datetime import datetime, timedelta"
   ]
  },
  {
   "cell_type": "code",
   "execution_count": 35,
   "id": "908d5aec",
   "metadata": {},
   "outputs": [],
   "source": [
    "fake = Faker('pt_BR')  # Dados em português"
   ]
  },
  {
   "cell_type": "code",
   "execution_count": 36,
   "id": "275f1c35",
   "metadata": {},
   "outputs": [],
   "source": [
    "# Conexão com o Postgres\n",
    "conn = psycopg2.connect(\n",
    "    dbname=\"dw_vendas\",\n",
    "    user=\"postgres\",\n",
    "    password=\"rubick\",  \n",
    "    host=\"localhost\"\n",
    ")\n",
    "cursor = conn.cursor()"
   ]
  },
  {
   "cell_type": "code",
   "execution_count": 37,
   "id": "7b5e2fdf",
   "metadata": {},
   "outputs": [],
   "source": [
    "# --- 1. Ingestão de CLIENTES ---\n",
    "for i in range(1, 101):  # 100 clientes\n",
    "    try:\n",
    "        cursor.execute(\n",
    "            \"\"\"\n",
    "            INSERT INTO dw_vendas.clientes_bronze (cliente_id, nome, cidade, segmento)\n",
    "            VALUES (%s, %s, %s, %s)\n",
    "            \"\"\",\n",
    "            (i, fake.name(), fake.city(), random.choice([\"Varejo\", \"Atacado\", \"Online\"]))\n",
    "        )\n",
    "    except Exception as e:\n",
    "        print(f\"Erro ao inserir cliente {i}: {e}\")\n",
    "        conn.rollback()"
   ]
  },
  {
   "cell_type": "code",
   "execution_count": 38,
   "id": "6aca39bf",
   "metadata": {},
   "outputs": [],
   "source": [
    "# --- 2. Ingestão de PRODUTOS ---\n",
    "categorias = [\"Eletrônicos\", \"Roupas\", \"Alimentos\", \"Livros\", \"Cosméticos\"]\n",
    "for i in range(1, 51):  # 50 produtos\n",
    "    cursor.execute(\n",
    "        \"\"\"\n",
    "        INSERT INTO dw_vendas.produtos_bronze (produto_id, nome, categoria, preco)\n",
    "        VALUES (%s, %s, %s, %s)\n",
    "        \"\"\",\n",
    "        (i, fake.word().capitalize() + \" \" + fake.word(), random.choice(categorias), round(random.uniform(10, 500), 2))\n",
    "    )"
   ]
  },
  {
   "cell_type": "code",
   "execution_count": 39,
   "id": "8859c0af",
   "metadata": {},
   "outputs": [],
   "source": [
    "# --- 3. Ingestão de LOJAS ---\n",
    "nomes_lojas = [\"Super\", \"Mega\", \"Hiper\", \"Ultra\", \"Maxi\"]  # Prefixos para nomes de lojas\n",
    "for i in range(1, 21):  # 20 lojas\n",
    "    nome_loja = f\"{random.choice(nomes_lojas)} {fake.word().capitalize()}\"\n",
    "    cursor.execute(\n",
    "        \"\"\"\n",
    "        INSERT INTO dw_vendas.lojas_bronze (loja_id, nome, cidade, tamanho)\n",
    "        VALUES (%s, %s, %s, %s)\n",
    "        \"\"\",\n",
    "        (i, \n",
    "         nome_loja,  # Ex: \"Super Eletrônicos\"\n",
    "         fake.city(),\n",
    "         random.choice([\"Pequena\", \"Média\", \"Grande\"])\n",
    "    ))"
   ]
  },
  {
   "cell_type": "code",
   "execution_count": 40,
   "id": "ec73d107",
   "metadata": {},
   "outputs": [],
   "source": [
    "# --- 4. Ingestão de VENDAS (agora com loja_id) ---\n",
    "for i in range(1, 1001):  # 1000 vendas\n",
    "    data_venda = fake.date_between(start_date='-1y', end_date='today')\n",
    "    cliente_id = random.randint(1, 100)\n",
    "    produto_id = random.randint(1, 50)\n",
    "    loja_id = random.randint(1, 20)\n",
    "    quantidade = random.randint(1, 5)\n",
    "    preco = round(random.uniform(10, 500), 2)\n",
    "    total = quantidade * preco\n",
    "\n",
    "    try:\n",
    "        cursor.execute(\n",
    "            \"\"\"\n",
    "            INSERT INTO dw_vendas.vendas_bronze (venda_id, cliente_id, produto_id, quantidade, data_venda, total)\n",
    "            VALUES (%s, %s, %s, %s, %s, %s)\n",
    "            \"\"\",\n",
    "            (i, cliente_id, produto_id, quantidade, data_venda, total)\n",
    "        )\n",
    "    except Exception as e:\n",
    "        print(f\"Erro ao inserir venda {i}: {e}\")\n",
    "        conn.rollback()"
   ]
  },
  {
   "cell_type": "code",
   "execution_count": null,
   "id": "f499b1db",
   "metadata": {},
   "outputs": [
    {
     "name": "stdout",
     "output_type": "stream",
     "text": [
      "Dados ingeridos com sucesso nas tabelas Bronze (com lojas)!\n"
     ]
    }
   ],
   "source": [
    "# Commit e fechamento\n",
    "conn.commit()\n",
    "cursor.close()\n",
    "conn.close()\n",
    "print(\"Dados ingeridos com sucesso nas tabelas Bronze!\")"
   ]
  }
 ],
 "metadata": {
  "kernelspec": {
   "display_name": "base",
   "language": "python",
   "name": "python3"
  },
  "language_info": {
   "codemirror_mode": {
    "name": "ipython",
    "version": 3
   },
   "file_extension": ".py",
   "mimetype": "text/x-python",
   "name": "python",
   "nbconvert_exporter": "python",
   "pygments_lexer": "ipython3",
   "version": "3.12.7"
  }
 },
 "nbformat": 4,
 "nbformat_minor": 5
}
